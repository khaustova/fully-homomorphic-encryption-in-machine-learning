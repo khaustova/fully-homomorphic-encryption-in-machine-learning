{
 "cells": [
  {
   "attachments": {},
   "cell_type": "markdown",
   "metadata": {},
   "source": [
    "## Решение задачи кредитного скоринга с использованием полностью гомоморфного шифрования\n",
    "### Этап 2 - Обучение и оценка модели (сервер)"
   ]
  },
  {
   "attachments": {},
   "cell_type": "markdown",
   "metadata": {},
   "source": [
    "**Импорт библиотек**"
   ]
  },
  {
   "cell_type": "code",
   "execution_count": 1,
   "metadata": {},
   "outputs": [],
   "source": [
    "import math\n",
    "import matplotlib.pyplot as plt\n",
    "import numpy as np\n",
    "import pandas as pd\n",
    "import tenseal as ts\n",
    "import torch\n",
    "from sklearn.model_selection import train_test_split\n",
    "from time import time"
   ]
  },
  {
   "attachments": {},
   "cell_type": "markdown",
   "metadata": {},
   "source": [
    "#### 1 Обучение модели логистической регрессии на незашифрованных данных"
   ]
  },
  {
   "attachments": {},
   "cell_type": "markdown",
   "metadata": {},
   "source": [
    "##### 1.1 Подготовка данных"
   ]
  },
  {
   "attachments": {},
   "cell_type": "markdown",
   "metadata": {},
   "source": [
    "Загрузим обработанный на первом этапе набор данных."
   ]
  },
  {
   "cell_type": "code",
   "execution_count": 2,
   "metadata": {},
   "outputs": [
    {
     "data": {
      "text/html": [
       "<div>\n",
       "<style scoped>\n",
       "    .dataframe tbody tr th:only-of-type {\n",
       "        vertical-align: middle;\n",
       "    }\n",
       "\n",
       "    .dataframe tbody tr th {\n",
       "        vertical-align: top;\n",
       "    }\n",
       "\n",
       "    .dataframe thead th {\n",
       "        text-align: right;\n",
       "    }\n",
       "</style>\n",
       "<table border=\"1\" class=\"dataframe\">\n",
       "  <thead>\n",
       "    <tr style=\"text-align: right;\">\n",
       "      <th></th>\n",
       "      <th>Age</th>\n",
       "      <th>Occupation</th>\n",
       "      <th>Annual_Income</th>\n",
       "      <th>Monthly_Inhand_Salary</th>\n",
       "      <th>Num_Bank_Accounts</th>\n",
       "      <th>Num_Credit_Card</th>\n",
       "      <th>Interest_Rate</th>\n",
       "      <th>Num_of_Loan</th>\n",
       "      <th>Type_of_Loan</th>\n",
       "      <th>Delay_from_due_date</th>\n",
       "      <th>Num_of_Delayed_Payment</th>\n",
       "      <th>Changed_Credit_Limit</th>\n",
       "      <th>Num_Credit_Inquiries</th>\n",
       "      <th>Credit_Mix</th>\n",
       "      <th>Outstanding_Debt</th>\n",
       "      <th>Credit_Utilization_Ratio</th>\n",
       "      <th>Credit_History_Age</th>\n",
       "      <th>Amount_invested_monthly</th>\n",
       "      <th>Payment_Behaviour</th>\n",
       "      <th>Credit_Score</th>\n",
       "    </tr>\n",
       "  </thead>\n",
       "  <tbody>\n",
       "    <tr>\n",
       "      <th>4399</th>\n",
       "      <td>0.342105</td>\n",
       "      <td>0.427030</td>\n",
       "      <td>0.001277</td>\n",
       "      <td>0.172831</td>\n",
       "      <td>0.5</td>\n",
       "      <td>0.5</td>\n",
       "      <td>0.060606</td>\n",
       "      <td>0.333333</td>\n",
       "      <td>0.500000</td>\n",
       "      <td>0.300000</td>\n",
       "      <td>0.000455</td>\n",
       "      <td>0.437106</td>\n",
       "      <td>0.333333</td>\n",
       "      <td>0.891224</td>\n",
       "      <td>0.438017</td>\n",
       "      <td>0.184606</td>\n",
       "      <td>0.883663</td>\n",
       "      <td>0.003643</td>\n",
       "      <td>0.996848</td>\n",
       "      <td>1.0</td>\n",
       "    </tr>\n",
       "    <tr>\n",
       "      <th>4400</th>\n",
       "      <td>0.263158</td>\n",
       "      <td>0.570743</td>\n",
       "      <td>0.000548</td>\n",
       "      <td>0.074141</td>\n",
       "      <td>0.3</td>\n",
       "      <td>0.5</td>\n",
       "      <td>0.424242</td>\n",
       "      <td>0.444444</td>\n",
       "      <td>0.200000</td>\n",
       "      <td>0.466667</td>\n",
       "      <td>0.003411</td>\n",
       "      <td>0.297959</td>\n",
       "      <td>0.500000</td>\n",
       "      <td>1.000000</td>\n",
       "      <td>0.852289</td>\n",
       "      <td>0.125417</td>\n",
       "      <td>0.413366</td>\n",
       "      <td>0.003793</td>\n",
       "      <td>0.865683</td>\n",
       "      <td>0.0</td>\n",
       "    </tr>\n",
       "    <tr>\n",
       "      <th>4401</th>\n",
       "      <td>0.421053</td>\n",
       "      <td>0.950890</td>\n",
       "      <td>0.000946</td>\n",
       "      <td>0.128536</td>\n",
       "      <td>0.6</td>\n",
       "      <td>0.3</td>\n",
       "      <td>0.333333</td>\n",
       "      <td>0.333333</td>\n",
       "      <td>0.684211</td>\n",
       "      <td>0.150000</td>\n",
       "      <td>0.002729</td>\n",
       "      <td>0.355102</td>\n",
       "      <td>0.000000</td>\n",
       "      <td>0.999924</td>\n",
       "      <td>0.355727</td>\n",
       "      <td>0.621881</td>\n",
       "      <td>0.589109</td>\n",
       "      <td>0.014161</td>\n",
       "      <td>0.630722</td>\n",
       "      <td>1.0</td>\n",
       "    </tr>\n",
       "    <tr>\n",
       "      <th>4402</th>\n",
       "      <td>0.052632</td>\n",
       "      <td>0.609347</td>\n",
       "      <td>0.002038</td>\n",
       "      <td>0.279331</td>\n",
       "      <td>0.5</td>\n",
       "      <td>0.7</td>\n",
       "      <td>0.363636</td>\n",
       "      <td>0.555556</td>\n",
       "      <td>1.000000</td>\n",
       "      <td>0.233333</td>\n",
       "      <td>0.003411</td>\n",
       "      <td>0.252319</td>\n",
       "      <td>0.666667</td>\n",
       "      <td>0.999924</td>\n",
       "      <td>0.780955</td>\n",
       "      <td>0.296926</td>\n",
       "      <td>0.477723</td>\n",
       "      <td>0.047536</td>\n",
       "      <td>0.000000</td>\n",
       "      <td>1.0</td>\n",
       "    </tr>\n",
       "    <tr>\n",
       "      <th>4403</th>\n",
       "      <td>0.342105</td>\n",
       "      <td>0.545898</td>\n",
       "      <td>0.000324</td>\n",
       "      <td>0.055450</td>\n",
       "      <td>0.5</td>\n",
       "      <td>0.5</td>\n",
       "      <td>0.030303</td>\n",
       "      <td>0.444444</td>\n",
       "      <td>0.200000</td>\n",
       "      <td>0.283333</td>\n",
       "      <td>0.000227</td>\n",
       "      <td>0.333581</td>\n",
       "      <td>0.166667</td>\n",
       "      <td>0.891224</td>\n",
       "      <td>0.554668</td>\n",
       "      <td>0.375137</td>\n",
       "      <td>0.782178</td>\n",
       "      <td>0.015202</td>\n",
       "      <td>0.000000</td>\n",
       "      <td>1.0</td>\n",
       "    </tr>\n",
       "  </tbody>\n",
       "</table>\n",
       "</div>"
      ],
      "text/plain": [
       "           Age  Occupation  Annual_Income  Monthly_Inhand_Salary  \\\n",
       "4399  0.342105    0.427030       0.001277               0.172831   \n",
       "4400  0.263158    0.570743       0.000548               0.074141   \n",
       "4401  0.421053    0.950890       0.000946               0.128536   \n",
       "4402  0.052632    0.609347       0.002038               0.279331   \n",
       "4403  0.342105    0.545898       0.000324               0.055450   \n",
       "\n",
       "      Num_Bank_Accounts  Num_Credit_Card  Interest_Rate  Num_of_Loan  \\\n",
       "4399                0.5              0.5       0.060606     0.333333   \n",
       "4400                0.3              0.5       0.424242     0.444444   \n",
       "4401                0.6              0.3       0.333333     0.333333   \n",
       "4402                0.5              0.7       0.363636     0.555556   \n",
       "4403                0.5              0.5       0.030303     0.444444   \n",
       "\n",
       "      Type_of_Loan  Delay_from_due_date  Num_of_Delayed_Payment  \\\n",
       "4399      0.500000             0.300000                0.000455   \n",
       "4400      0.200000             0.466667                0.003411   \n",
       "4401      0.684211             0.150000                0.002729   \n",
       "4402      1.000000             0.233333                0.003411   \n",
       "4403      0.200000             0.283333                0.000227   \n",
       "\n",
       "      Changed_Credit_Limit  Num_Credit_Inquiries  Credit_Mix  \\\n",
       "4399              0.437106              0.333333    0.891224   \n",
       "4400              0.297959              0.500000    1.000000   \n",
       "4401              0.355102              0.000000    0.999924   \n",
       "4402              0.252319              0.666667    0.999924   \n",
       "4403              0.333581              0.166667    0.891224   \n",
       "\n",
       "      Outstanding_Debt  Credit_Utilization_Ratio  Credit_History_Age  \\\n",
       "4399          0.438017                  0.184606            0.883663   \n",
       "4400          0.852289                  0.125417            0.413366   \n",
       "4401          0.355727                  0.621881            0.589109   \n",
       "4402          0.780955                  0.296926            0.477723   \n",
       "4403          0.554668                  0.375137            0.782178   \n",
       "\n",
       "      Amount_invested_monthly  Payment_Behaviour  Credit_Score  \n",
       "4399                 0.003643           0.996848           1.0  \n",
       "4400                 0.003793           0.865683           0.0  \n",
       "4401                 0.014161           0.630722           1.0  \n",
       "4402                 0.047536           0.000000           1.0  \n",
       "4403                 0.015202           0.000000           1.0  "
      ]
     },
     "execution_count": 2,
     "metadata": {},
     "output_type": "execute_result"
    }
   ],
   "source": [
    "df = pd.read_csv('Prepared credit score data.csv', low_memory=False)\n",
    "df.tail()"
   ]
  },
  {
   "attachments": {},
   "cell_type": "markdown",
   "metadata": {},
   "source": [
    "Разделим данные на тестовые и обучающие выборки."
   ]
  },
  {
   "cell_type": "code",
   "execution_count": 3,
   "metadata": {},
   "outputs": [],
   "source": [
    "x = df.drop(columns=['Credit_Score'])\n",
    "y = df['Credit_Score'].copy()\n",
    "\n",
    "x_train, x_test, y_train, y_test = train_test_split(x, y, test_size=0.2, random_state=42)"
   ]
  },
  {
   "attachments": {},
   "cell_type": "markdown",
   "metadata": {},
   "source": [
    "Создадим тензоры."
   ]
  },
  {
   "cell_type": "code",
   "execution_count": 4,
   "metadata": {},
   "outputs": [],
   "source": [
    "x_train = torch.tensor(x_train.values).to(torch.float32)\n",
    "x_test = torch.tensor(x_test.values).to(torch.float32)\n",
    "y_train = torch.tensor(y_train.values).to(torch.float32).unsqueeze(1)\n",
    "y_test = torch.tensor(y_test.values).to(torch.float32).unsqueeze(1)"
   ]
  },
  {
   "attachments": {},
   "cell_type": "markdown",
   "metadata": {},
   "source": [
    "##### 1.2 Обучение и оценка модели"
   ]
  },
  {
   "attachments": {},
   "cell_type": "markdown",
   "metadata": {},
   "source": [
    "Логистическую регрессию можно рассматривать как простую однослойную нейронную сеть, в основе которой лежит один линейный слой, который производит линейное преобразование входных данных, за которым следует сигмоидальная функция активации, преобразующая результаты в вероятности принадлежности объекта к классу 0 (заёмщик не вернёт кредит) или 1 (заёмщик вернёт кредит)."
   ]
  },
  {
   "cell_type": "code",
   "execution_count": 5,
   "metadata": {},
   "outputs": [],
   "source": [
    "class LogisticRegression(torch.nn.Module):\n",
    "\n",
    "    def __init__(self, n_features):\n",
    "        super(LogisticRegression, self).__init__()\n",
    "        self.lr = torch.nn.Linear(n_features, 1)\n",
    "        \n",
    "    def forward(self, x):\n",
    "        out = torch.sigmoid(self.lr(x))\n",
    "        return out"
   ]
  },
  {
   "cell_type": "code",
   "execution_count": 6,
   "metadata": {},
   "outputs": [],
   "source": [
    "n_features = x_train.shape[1]\n",
    "model = LogisticRegression(n_features)"
   ]
  },
  {
   "attachments": {},
   "cell_type": "markdown",
   "metadata": {},
   "source": [
    "В качестве оптимизатора используем стохастический градиентный спуск, а в качестве функции потерь - бинарную потерю кросс-энтропии."
   ]
  },
  {
   "cell_type": "code",
   "execution_count": 7,
   "metadata": {},
   "outputs": [],
   "source": [
    "optim = torch.optim.SGD(model.parameters(), lr=1)\n",
    "criterion = torch.nn.BCELoss()"
   ]
  },
  {
   "attachments": {},
   "cell_type": "markdown",
   "metadata": {},
   "source": [
    "Обучим модель логистической регрессии на незашифрованных данных."
   ]
  },
  {
   "cell_type": "code",
   "execution_count": 8,
   "metadata": {},
   "outputs": [
    {
     "name": "stdout",
     "output_type": "stream",
     "text": [
      "Среднее значение функции потерь за эпоху 1: 0.6557126045227051\n",
      "Среднее значение функции потерь за эпоху 2: 0.38906940817832947\n",
      "Среднее значение функции потерь за эпоху 3: 0.38775941729545593\n"
     ]
    }
   ],
   "source": [
    "EPOCHS = 3\n",
    "\n",
    "def train(model, optim, criterion, x, y, epochs=EPOCHS):\n",
    "    for e in range(1, epochs + 1):\n",
    "        optim.zero_grad()\n",
    "        out = model(x)\n",
    "        loss = criterion(out, y)\n",
    "        loss.backward()\n",
    "        optim.step()\n",
    "        print(f'Среднее значение функции потерь за эпоху {e}: {loss.data}')\n",
    "    return model\n",
    "\n",
    "model = train(model, optim, criterion, x_train, y_train)"
   ]
  },
  {
   "attachments": {},
   "cell_type": "markdown",
   "metadata": {},
   "source": [
    "Оценим точность модели, обученной на незашифрованных данных."
   ]
  },
  {
   "cell_type": "code",
   "execution_count": 9,
   "metadata": {},
   "outputs": [
    {
     "name": "stdout",
     "output_type": "stream",
     "text": [
      "Точность модели обученной на незашифрованных данных: 0.8626560568809509\n"
     ]
    }
   ],
   "source": [
    "def accuracy(model, x, y):\n",
    "    out = model(x)\n",
    "    correct = torch.abs(y - out) < 0.5\n",
    "    return correct.float().mean()\n",
    "\n",
    "plain_accuracy = accuracy(model, x_test, y_test)\n",
    "print(f'Точность модели обученной на незашифрованных данных: {plain_accuracy}')"
   ]
  },
  {
   "attachments": {},
   "cell_type": "markdown",
   "metadata": {},
   "source": [
    "#### 2 Обучение модели логистической регрессии на зашифрованных данных"
   ]
  },
  {
   "attachments": {},
   "cell_type": "markdown",
   "metadata": {},
   "source": [
    "##### 2.1 Подготовка данных"
   ]
  },
  {
   "attachments": {},
   "cell_type": "markdown",
   "metadata": {},
   "source": [
    "Восстановим сериализованный TenSEALContext, которые содержит схему и параметры шифрования, предварительно настроенные на клиенте."
   ]
  },
  {
   "cell_type": "code",
   "execution_count": 10,
   "metadata": {},
   "outputs": [],
   "source": [
    "with open('encrypted data//context.hex', 'rb') as file:\n",
    "    bytes_context = file.read()\n",
    "    ctx_training = ts.context_from(bytes_context)"
   ]
  },
  {
   "attachments": {},
   "cell_type": "markdown",
   "metadata": {},
   "source": [
    "Восстановим сериализованные зашифрованные векторы, для чего сначала распакуем архив и восстановим объекты CKKSVector из двоичных файлов."
   ]
  },
  {
   "cell_type": "code",
   "execution_count": 11,
   "metadata": {},
   "outputs": [],
   "source": [
    "import os\n",
    "from zipfile import ZipFile\n",
    "\n",
    "def get_ckks_vector(filename, ctx_training):\n",
    "    zip_name = f'encrypted data//{filename}.zip'\n",
    "    with ZipFile(zip_name, \"r\") as myzip:\n",
    "        myzip.extractall(path='encrypted data')\n",
    "        \n",
    "    ckks_vectors_list = []  \n",
    "    i = 1\n",
    "    while True:\n",
    "        filename_with_num = f'encrypted data//{filename}_{i}.hex'\n",
    "        try:\n",
    "            with open(filename_with_num, 'rb') as file:\n",
    "                bytes_vector = file.read()\n",
    "            ckks_vector = ts.ckks_vector_from(ctx_training, bytes_vector)\n",
    "            ckks_vectors_list.append(ckks_vector)\n",
    "            os.remove(filename_with_num)\n",
    "            i += 1\n",
    "        except:\n",
    "            break\n",
    "    \n",
    "    return ckks_vectors_list"
   ]
  },
  {
   "cell_type": "code",
   "execution_count": 12,
   "metadata": {},
   "outputs": [],
   "source": [
    "enc_x_train = get_ckks_vector('x_train', ctx_training)\n",
    "enc_y_train = get_ckks_vector('y_train', ctx_training)\n",
    "enc_x_test = get_ckks_vector('x_test', ctx_training)\n",
    "enc_y_test = get_ckks_vector('y_test', ctx_training)"
   ]
  },
  {
   "attachments": {},
   "cell_type": "markdown",
   "metadata": {},
   "source": [
    "##### 1.2 Обучение и оценка модели"
   ]
  },
  {
   "attachments": {},
   "cell_type": "markdown",
   "metadata": {},
   "source": [
    "Поскольку полностью гомоморфное шифрование не позволяет  напрямую вычислить сигмоидную функцию, так как её невозможно представить с помощью сложения и умножения, то её необходимо аппроксимировать с помощью полинома низкой степени. В результате проведённого анализа источников и литературы по теме исследования, в качестве аппроксимирующей функции была выбрана следующая функция:\n",
    "\n",
    "$$\\sigma(x) = -0.004 x^3 + 0.197 x + 0.5$$\n",
    "\n",
    "Данная функция была получена с помощью минимаксной аппроксимации и она аппроксимирует сигмоидную функцию на отрезке [-5; 5], поэтому на этапе подготовки данные были нормализованы в соответствии с данным диапазоном.\n",
    "\n",
    "Покажем точность аппроксмации, построив графики аппроксимирующей и сигмоидной функций."
   ]
  },
  {
   "cell_type": "code",
   "execution_count": 13,
   "metadata": {},
   "outputs": [
    {
     "data": {
      "image/png": "[encoded data removed]",
      "text/plain": [
       "<Figure size 640x480 with 1 Axes>"
      ]
     },
     "metadata": {},
     "output_type": "display_data"
    }
   ],
   "source": [
    "def sigmoid(x):\n",
    "    return 1 / (1 + math.exp(-x))\n",
    "\n",
    "def polinom(a, b, c, d, x):\n",
    "    return a * x ** 3 + b * x ** 2 + c * x + d\n",
    "\n",
    "x_min, x_max = -5, 5\n",
    "count = 100\n",
    "\n",
    "x_list = x_list_minmax = np.linspace(x_min, x_max, count)\n",
    "y_list = [sigmoid(x) for x in x_list]\n",
    "y_list_minmax  = [polinom(-0.004, 0, 0.197, 0.5, x) for x in x_list]\n",
    "\n",
    "plt.plot(x_list, y_list, label='Сигмоида')\n",
    "plt.plot(x_list_minmax , y_list_minmax, 'r--', label='Минимаксная аппроксимация')\n",
    "plt.xlabel('x', fontsize=12, color='blue')\n",
    "plt.ylabel('y', fontsize=12, color='blue')\n",
    "plt.legend()\n",
    "plt.show()"
   ]
  },
  {
   "attachments": {},
   "cell_type": "markdown",
   "metadata": {},
   "source": [
    "С помощью PyTorch, создадим модель логистической регрессии, использующей зашифрованные данные."
   ]
  },
  {
   "cell_type": "code",
   "execution_count": 14,
   "metadata": {},
   "outputs": [],
   "source": [
    "class EncryptedLogisticRegression:\n",
    "    \n",
    "    def __init__(self, torch_lr):\n",
    "        self.weight = torch_lr.lr.weight.data.tolist()[0]\n",
    "        self.bias = torch_lr.lr.bias.data.tolist()\n",
    "        # накапливаем градиент и подсчитываем количество итераций\n",
    "        self._delta_w = 0\n",
    "        self._delta_b = 0\n",
    "        self._count = 0\n",
    "        \n",
    "    def forward(self, enc_x):\n",
    "        enc_out = enc_x.dot(self.weight) + self.bias\n",
    "        enc_out = EncryptedLogisticRegression.sigmoid(enc_out)\n",
    "        return enc_out\n",
    "    \n",
    "    def backward(self, enc_x, enc_out, enc_y):\n",
    "        out_minus_y = (enc_out - enc_y)\n",
    "        self._delta_w += enc_x * out_minus_y\n",
    "        self._delta_b += out_minus_y\n",
    "        self._count += 1\n",
    "        \n",
    "    def update_parameters(self):\n",
    "        # обновляем параметры в соответствии с L2 регуляризацией, приняв α=1 и λ/m=0.05\n",
    "        self.weight -= self._delta_w * (1 / self._count) + self.weight * 0.05\n",
    "        self.bias -= self._delta_b * (1 / self._count)\n",
    "        # обнуляем накапливание градиента и счётчик итераций\n",
    "        self._delta_w = 0\n",
    "        self._delta_b = 0\n",
    "        self._count = 0\n",
    "    \n",
    "    @staticmethod\n",
    "    def sigmoid(enc_x):\n",
    "        return enc_x.polyval([0.5, 0.197, 0, -0.004])\n",
    "\n",
    "    def encrypt(self, context):\n",
    "        self.weight = ts.ckks_vector(context, self.weight)\n",
    "        self.bias = ts.ckks_vector(context, self.bias)\n",
    "        \n",
    "    def decrypt(self):\n",
    "        self.weight = self.weight.decrypt()\n",
    "        self.bias = self.bias.decrypt()\n",
    "        \n",
    "    def __call__(self, *args, **kwargs):\n",
    "        return self.forward(*args, **kwargs)"
   ]
  },
  {
   "attachments": {},
   "cell_type": "markdown",
   "metadata": {},
   "source": [
    "Создадим функцию оценивания точности модели, обученной на зашифрованных данных."
   ]
  },
  {
   "cell_type": "code",
   "execution_count": 15,
   "metadata": {},
   "outputs": [],
   "source": [
    "def enc_accuracy(model, x_test, y_test):\n",
    "    w = torch.tensor(model.weight)\n",
    "    b = torch.tensor(model.bias)\n",
    "    out = torch.sigmoid(x_test.matmul(w) + b).reshape(-1, 1)\n",
    "    correct = torch.abs(y_test - out) < 0.5\n",
    "    return correct.float().mean()  "
   ]
  },
  {
   "attachments": {},
   "cell_type": "markdown",
   "metadata": {},
   "source": [
    "Обучим модель логистической регрессии на зашифрованных данных, оценим её точность и сравним с точность модели, обученной на незашифрованных данных."
   ]
  },
  {
   "cell_type": "code",
   "execution_count": 16,
   "metadata": {},
   "outputs": [
    {
     "name": "stdout",
     "output_type": "stream",
     "text": [
      "Точность модели за эпоху 1: 0.8626560568809509\n",
      "Точность модели за эпоху 2: 0.8626560568809509\n",
      "Точность модели за эпоху 3: 0.8626560568809509\n",
      "\n",
      "Среднее время обучения модели за эпоху: 346 секунд\n",
      "Точность модели обученной на зашифрованных данных 0.8626560568809509\n",
      "Разница между точностью модели обученной на зашифрованных и незашифрованных данных: 0.0\n"
     ]
    }
   ],
   "source": [
    "enc_model = EncryptedLogisticRegression(LogisticRegression(n_features))\n",
    "\n",
    "times = []\n",
    "for epoch in range(EPOCHS):\n",
    "    enc_model.encrypt(ctx_training)\n",
    "    t_start = time()\n",
    "    for enc_x, enc_y in zip(enc_x_train, enc_y_train):\n",
    "        enc_out = enc_model.forward(enc_x)\n",
    "        enc_model.backward(enc_x, enc_out, enc_y)\n",
    "    enc_model.update_parameters()\n",
    "    t_end = time()\n",
    "    times.append(t_end - t_start)\n",
    "    \n",
    "    enc_model.decrypt()\n",
    "    accuracy = enc_accuracy(enc_model, x_test, y_test)\n",
    "    print(f\"Точность модели за эпоху {epoch + 1}: {accuracy}\")\n",
    "\n",
    "\n",
    "print(f\"\\nСреднее время обучения модели за эпоху: {int(sum(times) / len(times))} секунд\")\n",
    "print(f\"Точность модели обученной на зашифрованных данных {accuracy}\")\n",
    "\n",
    "diff_accuracy = plain_accuracy - accuracy\n",
    "print(f\"Разница между точностью модели обученной на зашифрованных и незашифрованных данных: {diff_accuracy}\")"
   ]
  },
  {
   "attachments": {},
   "cell_type": "markdown",
   "metadata": {},
   "source": [
    "Таким образом, были обучены модели логистической регрессии на зашифрованных и на незашифрованных данных, причём обе модели показывают одинаковую точность, однако использование зашифрованных данных решает проблему недостаточной защищённости данных, которые загружаются на облако."
   ]
  }
 ],
 "metadata": {
  "kernelspec": {
   "display_name": "Python 3",
   "language": "python",
   "name": "python3"
  },
  "language_info": {
   "codemirror_mode": {
    "name": "ipython",
    "version": 3
   },
   "file_extension": ".py",
   "mimetype": "text/x-python",
   "name": "python",
   "nbconvert_exporter": "python",
   "pygments_lexer": "ipython3",
   "version": "3.10.9"
  },
  "orig_nbformat": 4
 },
 "nbformat": 4,
 "nbformat_minor": 2
}
