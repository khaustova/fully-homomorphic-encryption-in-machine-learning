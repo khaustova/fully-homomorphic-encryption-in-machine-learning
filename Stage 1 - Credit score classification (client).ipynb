{
 "cells": [
  {
   "attachments": {},
   "cell_type": "markdown",
   "metadata": {},
   "source": [
    "## Решение задачи кредитного скоринга с использованием полностью гомоморфного шифрования"
   ]
  },
  {
   "attachments": {},
   "cell_type": "markdown",
   "metadata": {},
   "source": [
    "### Введение"
   ]
  },
  {
   "attachments": {},
   "cell_type": "markdown",
   "metadata": {},
   "source": [
    "В данной работе рассматривается ситуация, когда в банке возникла нехватка вычислительной мощности для решения задач машинного обучения, поэтому было принято решение арендовать для этих целей облачный сервер. \n",
    "\n",
    "Однако так как данные передаются на сторонний сервер, то возникает проблема безопасности данных, так как уязвимости в самом облаке, возможности несанкционированного доступа или даже неправильная настройка доступа к облаку могут привести к угрозам информационной безопасности, например, утечке данных, что снизит уровень доверия клиентов, а также приведёт к репутационным потерям и штрафам за нарушение правил информационной безопасности.\n",
    "\n",
    "Решить данную проблему можно с помощью машинного обучения на зашифрованных данных, которое возможно с использованием полностью гомоморфного шифрования, позволяющего выполнять вычисления над зашифрованными данными без их расшифровки, что обеспечивает наивысший уровень безопасности, так как содержание данных никогда не раскрывается.\n",
    "\n",
    "Демонстрация применения полностью гомоморфного шифрования для машинного обучения предлагается на примере решения задачи кредитного скоринга с предварительным шифрованием данных на стороне клиента (этап 1) и обучением и оценкой модели на зашифрованных данных на стороне сервера (этап 2). \n",
    "\n",
    "В качестве библиотеки полностью гомоморфного шифрования используется выбрана TenSEAL, основанная на Microsoft SEAL, которая в настоящее время является наиболее используемой библиотекой полностью гомоморфного шифрования. С помощью API она обеспечивает простоту использования языка Python, при этом сохраняя эффективность за счет реализации большинства операций с использованием C++."
   ]
  },
  {
   "attachments": {},
   "cell_type": "markdown",
   "metadata": {},
   "source": [
    "### Этап 1 - Подготовка данных (клиент)"
   ]
  },
  {
   "attachments": {},
   "cell_type": "markdown",
   "metadata": {},
   "source": [
    "#### 1 Подготовка данных"
   ]
  },
  {
   "attachments": {},
   "cell_type": "markdown",
   "metadata": {},
   "source": [
    "##### Импорт библиотек"
   ]
  },
  {
   "cell_type": "code",
   "execution_count": 3,
   "metadata": {},
   "outputs": [],
   "source": [
    "import category_encoders as ce\n",
    "import matplotlib.pyplot as plt\n",
    "import numpy as np\n",
    "import pandas as pd\n",
    "import tenseal as ts\n",
    "import torch\n",
    "from sklearn.preprocessing import MinMaxScaler\n",
    "from sklearn.model_selection import train_test_split\n",
    "from sklearn.preprocessing import OrdinalEncoder\n",
    "from sklearn.impute import SimpleImputer\n",
    "from time import time"
   ]
  },
  {
   "attachments": {},
   "cell_type": "markdown",
   "metadata": {},
   "source": [
    "##### Чтение данных\n",
    "Набор данных [Credit score classification](https://www.kaggle.com/datasets/parisrohan/credit-score-classification/data), скачанный с Kaggle, выбран потому, что он включает в себя практически полную информацию о банковских клиентах, в том числе, возраст, профессию, годовой и ежемесячный доход, количество банковских счетов и так далее."
   ]
  },
  {
   "cell_type": "code",
   "execution_count": 4,
   "metadata": {},
   "outputs": [
    {
     "data": {
      "text/html": [
       "<div>\n",
       "<style scoped>\n",
       "    .dataframe tbody tr th:only-of-type {\n",
       "        vertical-align: middle;\n",
       "    }\n",
       "\n",
       "    .dataframe tbody tr th {\n",
       "        vertical-align: top;\n",
       "    }\n",
       "\n",
       "    .dataframe thead th {\n",
       "        text-align: right;\n",
       "    }\n",
       "</style>\n",
       "<table border=\"1\" class=\"dataframe\">\n",
       "  <thead>\n",
       "    <tr style=\"text-align: right;\">\n",
       "      <th></th>\n",
       "      <th>ID</th>\n",
       "      <th>Customer_ID</th>\n",
       "      <th>Month</th>\n",
       "      <th>Name</th>\n",
       "      <th>Age</th>\n",
       "      <th>SSN</th>\n",
       "      <th>Occupation</th>\n",
       "      <th>Annual_Income</th>\n",
       "      <th>Monthly_Inhand_Salary</th>\n",
       "      <th>Num_Bank_Accounts</th>\n",
       "      <th>...</th>\n",
       "      <th>Credit_Mix</th>\n",
       "      <th>Outstanding_Debt</th>\n",
       "      <th>Credit_Utilization_Ratio</th>\n",
       "      <th>Credit_History_Age</th>\n",
       "      <th>Payment_of_Min_Amount</th>\n",
       "      <th>Total_EMI_per_month</th>\n",
       "      <th>Amount_invested_monthly</th>\n",
       "      <th>Payment_Behaviour</th>\n",
       "      <th>Monthly_Balance</th>\n",
       "      <th>Credit_Score</th>\n",
       "    </tr>\n",
       "  </thead>\n",
       "  <tbody>\n",
       "    <tr>\n",
       "      <th>99995</th>\n",
       "      <td>0x25fe9</td>\n",
       "      <td>CUS_0x942c</td>\n",
       "      <td>April</td>\n",
       "      <td>Nicks</td>\n",
       "      <td>25</td>\n",
       "      <td>078-73-5990</td>\n",
       "      <td>Mechanic</td>\n",
       "      <td>39628.99</td>\n",
       "      <td>3359.415833</td>\n",
       "      <td>4</td>\n",
       "      <td>...</td>\n",
       "      <td>_</td>\n",
       "      <td>502.38</td>\n",
       "      <td>34.663572</td>\n",
       "      <td>31 Years and 6 Months</td>\n",
       "      <td>No</td>\n",
       "      <td>35.104023</td>\n",
       "      <td>60.97133255718485</td>\n",
       "      <td>High_spent_Large_value_payments</td>\n",
       "      <td>479.86622816574095</td>\n",
       "      <td>Poor</td>\n",
       "    </tr>\n",
       "    <tr>\n",
       "      <th>99996</th>\n",
       "      <td>0x25fea</td>\n",
       "      <td>CUS_0x942c</td>\n",
       "      <td>May</td>\n",
       "      <td>Nicks</td>\n",
       "      <td>25</td>\n",
       "      <td>078-73-5990</td>\n",
       "      <td>Mechanic</td>\n",
       "      <td>39628.99</td>\n",
       "      <td>3359.415833</td>\n",
       "      <td>4</td>\n",
       "      <td>...</td>\n",
       "      <td>_</td>\n",
       "      <td>502.38</td>\n",
       "      <td>40.565631</td>\n",
       "      <td>31 Years and 7 Months</td>\n",
       "      <td>No</td>\n",
       "      <td>35.104023</td>\n",
       "      <td>54.18595028760385</td>\n",
       "      <td>High_spent_Medium_value_payments</td>\n",
       "      <td>496.651610435322</td>\n",
       "      <td>Poor</td>\n",
       "    </tr>\n",
       "    <tr>\n",
       "      <th>99997</th>\n",
       "      <td>0x25feb</td>\n",
       "      <td>CUS_0x942c</td>\n",
       "      <td>June</td>\n",
       "      <td>Nicks</td>\n",
       "      <td>25</td>\n",
       "      <td>078-73-5990</td>\n",
       "      <td>Mechanic</td>\n",
       "      <td>39628.99</td>\n",
       "      <td>3359.415833</td>\n",
       "      <td>4</td>\n",
       "      <td>...</td>\n",
       "      <td>Good</td>\n",
       "      <td>502.38</td>\n",
       "      <td>41.255522</td>\n",
       "      <td>31 Years and 8 Months</td>\n",
       "      <td>No</td>\n",
       "      <td>35.104023</td>\n",
       "      <td>24.02847744864441</td>\n",
       "      <td>High_spent_Large_value_payments</td>\n",
       "      <td>516.8090832742814</td>\n",
       "      <td>Poor</td>\n",
       "    </tr>\n",
       "    <tr>\n",
       "      <th>99998</th>\n",
       "      <td>0x25fec</td>\n",
       "      <td>CUS_0x942c</td>\n",
       "      <td>July</td>\n",
       "      <td>Nicks</td>\n",
       "      <td>25</td>\n",
       "      <td>078-73-5990</td>\n",
       "      <td>Mechanic</td>\n",
       "      <td>39628.99</td>\n",
       "      <td>3359.415833</td>\n",
       "      <td>4</td>\n",
       "      <td>...</td>\n",
       "      <td>Good</td>\n",
       "      <td>502.38</td>\n",
       "      <td>33.638208</td>\n",
       "      <td>31 Years and 9 Months</td>\n",
       "      <td>No</td>\n",
       "      <td>35.104023</td>\n",
       "      <td>251.67258219721603</td>\n",
       "      <td>Low_spent_Large_value_payments</td>\n",
       "      <td>319.1649785257098</td>\n",
       "      <td>Standard</td>\n",
       "    </tr>\n",
       "    <tr>\n",
       "      <th>99999</th>\n",
       "      <td>0x25fed</td>\n",
       "      <td>CUS_0x942c</td>\n",
       "      <td>August</td>\n",
       "      <td>Nicks</td>\n",
       "      <td>25</td>\n",
       "      <td>078-73-5990</td>\n",
       "      <td>Mechanic</td>\n",
       "      <td>39628.99_</td>\n",
       "      <td>3359.415833</td>\n",
       "      <td>4</td>\n",
       "      <td>...</td>\n",
       "      <td>Good</td>\n",
       "      <td>502.38</td>\n",
       "      <td>34.192463</td>\n",
       "      <td>31 Years and 10 Months</td>\n",
       "      <td>No</td>\n",
       "      <td>35.104023</td>\n",
       "      <td>167.1638651610451</td>\n",
       "      <td>!@9#%8</td>\n",
       "      <td>393.6736955618808</td>\n",
       "      <td>Poor</td>\n",
       "    </tr>\n",
       "  </tbody>\n",
       "</table>\n",
       "<p>5 rows × 28 columns</p>\n",
       "</div>"
      ],
      "text/plain": [
       "            ID Customer_ID   Month   Name Age          SSN Occupation  \\\n",
       "99995  0x25fe9  CUS_0x942c   April  Nicks  25  078-73-5990   Mechanic   \n",
       "99996  0x25fea  CUS_0x942c     May  Nicks  25  078-73-5990   Mechanic   \n",
       "99997  0x25feb  CUS_0x942c    June  Nicks  25  078-73-5990   Mechanic   \n",
       "99998  0x25fec  CUS_0x942c    July  Nicks  25  078-73-5990   Mechanic   \n",
       "99999  0x25fed  CUS_0x942c  August  Nicks  25  078-73-5990   Mechanic   \n",
       "\n",
       "      Annual_Income  Monthly_Inhand_Salary  Num_Bank_Accounts  ...  \\\n",
       "99995      39628.99            3359.415833                  4  ...   \n",
       "99996      39628.99            3359.415833                  4  ...   \n",
       "99997      39628.99            3359.415833                  4  ...   \n",
       "99998      39628.99            3359.415833                  4  ...   \n",
       "99999     39628.99_            3359.415833                  4  ...   \n",
       "\n",
       "       Credit_Mix  Outstanding_Debt Credit_Utilization_Ratio  \\\n",
       "99995           _            502.38                34.663572   \n",
       "99996           _            502.38                40.565631   \n",
       "99997        Good            502.38                41.255522   \n",
       "99998        Good            502.38                33.638208   \n",
       "99999        Good            502.38                34.192463   \n",
       "\n",
       "           Credit_History_Age  Payment_of_Min_Amount Total_EMI_per_month  \\\n",
       "99995   31 Years and 6 Months                     No           35.104023   \n",
       "99996   31 Years and 7 Months                     No           35.104023   \n",
       "99997   31 Years and 8 Months                     No           35.104023   \n",
       "99998   31 Years and 9 Months                     No           35.104023   \n",
       "99999  31 Years and 10 Months                     No           35.104023   \n",
       "\n",
       "      Amount_invested_monthly                 Payment_Behaviour  \\\n",
       "99995       60.97133255718485   High_spent_Large_value_payments   \n",
       "99996       54.18595028760385  High_spent_Medium_value_payments   \n",
       "99997       24.02847744864441   High_spent_Large_value_payments   \n",
       "99998      251.67258219721603    Low_spent_Large_value_payments   \n",
       "99999       167.1638651610451                            !@9#%8   \n",
       "\n",
       "          Monthly_Balance Credit_Score  \n",
       "99995  479.86622816574095         Poor  \n",
       "99996    496.651610435322         Poor  \n",
       "99997   516.8090832742814         Poor  \n",
       "99998   319.1649785257098     Standard  \n",
       "99999   393.6736955618808         Poor  \n",
       "\n",
       "[5 rows x 28 columns]"
      ]
     },
     "execution_count": 4,
     "metadata": {},
     "output_type": "execute_result"
    }
   ],
   "source": [
    "df = pd.read_csv('Credit score data.csv', low_memory=False)\n",
    "df.tail()"
   ]
  },
  {
   "attachments": {},
   "cell_type": "markdown",
   "metadata": {},
   "source": [
    "#### 2 Очистка данных"
   ]
  },
  {
   "attachments": {},
   "cell_type": "markdown",
   "metadata": {},
   "source": [
    "##### 2.1 Предварительная очистка данных"
   ]
  },
  {
   "cell_type": "code",
   "execution_count": 5,
   "metadata": {},
   "outputs": [
    {
     "name": "stdout",
     "output_type": "stream",
     "text": [
      "Размер набора данных:  (100000, 28)\n"
     ]
    }
   ],
   "source": [
    "print('Размер набора данных: ', df.shape)"
   ]
  },
  {
   "cell_type": "code",
   "execution_count": 6,
   "metadata": {},
   "outputs": [
    {
     "data": {
      "text/html": [
       "<div>\n",
       "<style scoped>\n",
       "    .dataframe tbody tr th:only-of-type {\n",
       "        vertical-align: middle;\n",
       "    }\n",
       "\n",
       "    .dataframe tbody tr th {\n",
       "        vertical-align: top;\n",
       "    }\n",
       "\n",
       "    .dataframe thead th {\n",
       "        text-align: right;\n",
       "    }\n",
       "</style>\n",
       "<table border=\"1\" class=\"dataframe\">\n",
       "  <thead>\n",
       "    <tr style=\"text-align: right;\">\n",
       "      <th></th>\n",
       "      <th>count</th>\n",
       "      <th>unique</th>\n",
       "      <th>top</th>\n",
       "      <th>freq</th>\n",
       "    </tr>\n",
       "  </thead>\n",
       "  <tbody>\n",
       "    <tr>\n",
       "      <th>ID</th>\n",
       "      <td>100000</td>\n",
       "      <td>100000</td>\n",
       "      <td>0x1602</td>\n",
       "      <td>1</td>\n",
       "    </tr>\n",
       "    <tr>\n",
       "      <th>Customer_ID</th>\n",
       "      <td>100000</td>\n",
       "      <td>12500</td>\n",
       "      <td>CUS_0xd40</td>\n",
       "      <td>8</td>\n",
       "    </tr>\n",
       "    <tr>\n",
       "      <th>Month</th>\n",
       "      <td>100000</td>\n",
       "      <td>8</td>\n",
       "      <td>January</td>\n",
       "      <td>12500</td>\n",
       "    </tr>\n",
       "    <tr>\n",
       "      <th>Name</th>\n",
       "      <td>90015</td>\n",
       "      <td>10139</td>\n",
       "      <td>Langep</td>\n",
       "      <td>44</td>\n",
       "    </tr>\n",
       "    <tr>\n",
       "      <th>Age</th>\n",
       "      <td>100000</td>\n",
       "      <td>1788</td>\n",
       "      <td>38</td>\n",
       "      <td>2833</td>\n",
       "    </tr>\n",
       "    <tr>\n",
       "      <th>SSN</th>\n",
       "      <td>100000</td>\n",
       "      <td>12501</td>\n",
       "      <td>#F%$D@*&amp;8</td>\n",
       "      <td>5572</td>\n",
       "    </tr>\n",
       "    <tr>\n",
       "      <th>Occupation</th>\n",
       "      <td>100000</td>\n",
       "      <td>16</td>\n",
       "      <td>_______</td>\n",
       "      <td>7062</td>\n",
       "    </tr>\n",
       "    <tr>\n",
       "      <th>Annual_Income</th>\n",
       "      <td>100000</td>\n",
       "      <td>18940</td>\n",
       "      <td>36585.12</td>\n",
       "      <td>16</td>\n",
       "    </tr>\n",
       "    <tr>\n",
       "      <th>Num_of_Loan</th>\n",
       "      <td>100000</td>\n",
       "      <td>434</td>\n",
       "      <td>3</td>\n",
       "      <td>14386</td>\n",
       "    </tr>\n",
       "    <tr>\n",
       "      <th>Type_of_Loan</th>\n",
       "      <td>88592</td>\n",
       "      <td>6260</td>\n",
       "      <td>Not Specified</td>\n",
       "      <td>1408</td>\n",
       "    </tr>\n",
       "    <tr>\n",
       "      <th>Num_of_Delayed_Payment</th>\n",
       "      <td>92998</td>\n",
       "      <td>749</td>\n",
       "      <td>19</td>\n",
       "      <td>5327</td>\n",
       "    </tr>\n",
       "    <tr>\n",
       "      <th>Changed_Credit_Limit</th>\n",
       "      <td>100000</td>\n",
       "      <td>4384</td>\n",
       "      <td>_</td>\n",
       "      <td>2091</td>\n",
       "    </tr>\n",
       "    <tr>\n",
       "      <th>Credit_Mix</th>\n",
       "      <td>100000</td>\n",
       "      <td>4</td>\n",
       "      <td>Standard</td>\n",
       "      <td>36479</td>\n",
       "    </tr>\n",
       "    <tr>\n",
       "      <th>Outstanding_Debt</th>\n",
       "      <td>100000</td>\n",
       "      <td>13178</td>\n",
       "      <td>1360.45</td>\n",
       "      <td>24</td>\n",
       "    </tr>\n",
       "    <tr>\n",
       "      <th>Credit_History_Age</th>\n",
       "      <td>90970</td>\n",
       "      <td>404</td>\n",
       "      <td>15 Years and 11 Months</td>\n",
       "      <td>446</td>\n",
       "    </tr>\n",
       "    <tr>\n",
       "      <th>Payment_of_Min_Amount</th>\n",
       "      <td>100000</td>\n",
       "      <td>3</td>\n",
       "      <td>Yes</td>\n",
       "      <td>52326</td>\n",
       "    </tr>\n",
       "    <tr>\n",
       "      <th>Amount_invested_monthly</th>\n",
       "      <td>95521</td>\n",
       "      <td>91049</td>\n",
       "      <td>__10000__</td>\n",
       "      <td>4305</td>\n",
       "    </tr>\n",
       "    <tr>\n",
       "      <th>Payment_Behaviour</th>\n",
       "      <td>100000</td>\n",
       "      <td>7</td>\n",
       "      <td>Low_spent_Small_value_payments</td>\n",
       "      <td>25513</td>\n",
       "    </tr>\n",
       "    <tr>\n",
       "      <th>Monthly_Balance</th>\n",
       "      <td>98800</td>\n",
       "      <td>98792</td>\n",
       "      <td>__-333333333333333333333333333__</td>\n",
       "      <td>9</td>\n",
       "    </tr>\n",
       "    <tr>\n",
       "      <th>Credit_Score</th>\n",
       "      <td>100000</td>\n",
       "      <td>3</td>\n",
       "      <td>Standard</td>\n",
       "      <td>53174</td>\n",
       "    </tr>\n",
       "  </tbody>\n",
       "</table>\n",
       "</div>"
      ],
      "text/plain": [
       "                          count  unique                               top  \\\n",
       "ID                       100000  100000                            0x1602   \n",
       "Customer_ID              100000   12500                         CUS_0xd40   \n",
       "Month                    100000       8                           January   \n",
       "Name                      90015   10139                            Langep   \n",
       "Age                      100000    1788                                38   \n",
       "SSN                      100000   12501                         #F%$D@*&8   \n",
       "Occupation               100000      16                           _______   \n",
       "Annual_Income            100000   18940                          36585.12   \n",
       "Num_of_Loan              100000     434                                 3   \n",
       "Type_of_Loan              88592    6260                     Not Specified   \n",
       "Num_of_Delayed_Payment    92998     749                                19   \n",
       "Changed_Credit_Limit     100000    4384                                 _   \n",
       "Credit_Mix               100000       4                          Standard   \n",
       "Outstanding_Debt         100000   13178                           1360.45   \n",
       "Credit_History_Age        90970     404            15 Years and 11 Months   \n",
       "Payment_of_Min_Amount    100000       3                               Yes   \n",
       "Amount_invested_monthly   95521   91049                         __10000__   \n",
       "Payment_Behaviour        100000       7    Low_spent_Small_value_payments   \n",
       "Monthly_Balance           98800   98792  __-333333333333333333333333333__   \n",
       "Credit_Score             100000       3                          Standard   \n",
       "\n",
       "                          freq  \n",
       "ID                           1  \n",
       "Customer_ID                  8  \n",
       "Month                    12500  \n",
       "Name                        44  \n",
       "Age                       2833  \n",
       "SSN                       5572  \n",
       "Occupation                7062  \n",
       "Annual_Income               16  \n",
       "Num_of_Loan              14386  \n",
       "Type_of_Loan              1408  \n",
       "Num_of_Delayed_Payment    5327  \n",
       "Changed_Credit_Limit      2091  \n",
       "Credit_Mix               36479  \n",
       "Outstanding_Debt            24  \n",
       "Credit_History_Age         446  \n",
       "Payment_of_Min_Amount    52326  \n",
       "Amount_invested_monthly   4305  \n",
       "Payment_Behaviour        25513  \n",
       "Monthly_Balance              9  \n",
       "Credit_Score             53174  "
      ]
     },
     "execution_count": 6,
     "metadata": {},
     "output_type": "execute_result"
    }
   ],
   "source": [
    "df.describe(exclude=np.number).T"
   ]
  },
  {
   "attachments": {},
   "cell_type": "markdown",
   "metadata": {},
   "source": [
    "Выводы:\n",
    "* 12500 уникальных значений поля с идентификатором клиента Customer_ID означают то, что в наборе представлены данные 12500 клиентов.\n",
    "* 8 уникальных значений поля с месяцем Month означают то, что данные представлены не за все месяцы.\n",
    "* 1788 уникальных значений поля с возрастом Age выглядят странно.\n",
    "* 12501 уникальных значений поля с номером социального страхования SNN при наличии данных о 12500 клиентах означают то, что у одного из клиентов представлен неправильный SNN.\n",
    "* Данные содержат лишние символы, например, \"_\"."
   ]
  },
  {
   "attachments": {},
   "cell_type": "markdown",
   "metadata": {},
   "source": [
    "Удалим поля, не влияющие на кредитный рейтинг."
   ]
  },
  {
   "cell_type": "code",
   "execution_count": 7,
   "metadata": {},
   "outputs": [],
   "source": [
    "df.drop(['ID', 'Customer_ID', 'Name', 'SSN', 'Month'], axis=1, inplace=True)"
   ]
  },
  {
   "attachments": {},
   "cell_type": "markdown",
   "metadata": {},
   "source": [
    "Удалим лишние символы из данных."
   ]
  },
  {
   "cell_type": "code",
   "execution_count": 8,
   "metadata": {},
   "outputs": [],
   "source": [
    "def text_cleaning(data):\n",
    "    if data is np.NaN or not isinstance(data, str):\n",
    "        return data\n",
    "    else:\n",
    "        return str(data).strip('_ ,\"')"
   ]
  },
  {
   "cell_type": "code",
   "execution_count": 9,
   "metadata": {},
   "outputs": [],
   "source": [
    "df = df.map(text_cleaning)"
   ]
  },
  {
   "attachments": {},
   "cell_type": "markdown",
   "metadata": {},
   "source": [
    "Заменим не имеющие смысла значений на NaN."
   ]
  },
  {
   "cell_type": "code",
   "execution_count": 10,
   "metadata": {},
   "outputs": [],
   "source": [
    "df = df.replace(['', 'nan', '!@9#%8'], np.NaN)"
   ]
  },
  {
   "attachments": {},
   "cell_type": "markdown",
   "metadata": {},
   "source": [
    "Определим и преобразуем типы данных."
   ]
  },
  {
   "cell_type": "code",
   "execution_count": 11,
   "metadata": {},
   "outputs": [
    {
     "data": {
      "text/plain": [
       "Age                          object\n",
       "Occupation                   object\n",
       "Annual_Income                object\n",
       "Monthly_Inhand_Salary       float64\n",
       "Num_Bank_Accounts             int64\n",
       "Num_Credit_Card               int64\n",
       "Interest_Rate                 int64\n",
       "Num_of_Loan                  object\n",
       "Type_of_Loan                 object\n",
       "Delay_from_due_date           int64\n",
       "Num_of_Delayed_Payment       object\n",
       "Changed_Credit_Limit         object\n",
       "Num_Credit_Inquiries        float64\n",
       "Credit_Mix                   object\n",
       "Outstanding_Debt             object\n",
       "Credit_Utilization_Ratio    float64\n",
       "Credit_History_Age           object\n",
       "Payment_of_Min_Amount        object\n",
       "Total_EMI_per_month         float64\n",
       "Amount_invested_monthly      object\n",
       "Payment_Behaviour            object\n",
       "Monthly_Balance              object\n",
       "Credit_Score                 object\n",
       "dtype: object"
      ]
     },
     "execution_count": 11,
     "metadata": {},
     "output_type": "execute_result"
    }
   ],
   "source": [
    "df.dtypes"
   ]
  },
  {
   "attachments": {},
   "cell_type": "markdown",
   "metadata": {},
   "source": [
    "Выводы:\n",
    "* Данные представлены строковым и числовым типом.\n",
    "* Числовые поля Age, Annual_Income, Num_of_Loan, Num_of_Delayed_Payment, Changed_Credit_Limit, Outstanding_Debt, Amount_invested_monthly, Monthly_Balance представлены неверным типом."
   ]
  },
  {
   "cell_type": "code",
   "execution_count": 12,
   "metadata": {},
   "outputs": [],
   "source": [
    "wrong_types = ['Age', 'Annual_Income', 'Num_of_Loan', 'Num_of_Delayed_Payment', 'Changed_Credit_Limit',\n",
    "               'Outstanding_Debt', 'Amount_invested_monthly', 'Monthly_Balance'\n",
    "            ]"
   ]
  },
  {
   "cell_type": "code",
   "execution_count": 13,
   "metadata": {},
   "outputs": [],
   "source": [
    "for col in wrong_types:\n",
    "    df[col] = df[col].astype('float64')"
   ]
  },
  {
   "attachments": {},
   "cell_type": "markdown",
   "metadata": {},
   "source": [
    "С помощью функции convert_to_month() конвертируем значения поля Credit_History_Age, представленные годами и месяцами, в месяцы (например, \"2 Years and 7 Months\" в \"19\") и преобразуем в тип float64."
   ]
  },
  {
   "cell_type": "code",
   "execution_count": 14,
   "metadata": {},
   "outputs": [],
   "source": [
    "def convert_to_months(history):\n",
    "    if pd.notnull(history):\n",
    "        years = int(history.split(' ')[0])\n",
    "        months = int(history.split(' ')[3])\n",
    "        return (years * 12) + months\n",
    "    return 0"
   ]
  },
  {
   "cell_type": "code",
   "execution_count": 15,
   "metadata": {},
   "outputs": [],
   "source": [
    "df['Credit_History_Age'] = df['Credit_History_Age'].apply(lambda x: convert_to_months(x)).astype(float)"
   ]
  },
  {
   "attachments": {},
   "cell_type": "markdown",
   "metadata": {},
   "source": [
    "##### 2.2 Обработка количественных данных"
   ]
  },
  {
   "cell_type": "code",
   "execution_count": 16,
   "metadata": {},
   "outputs": [
    {
     "name": "stdout",
     "output_type": "stream",
     "text": [
      "Age\n",
      "38.0      2994\n",
      "28.0      2968\n",
      "31.0      2955\n",
      "26.0      2945\n",
      "32.0      2884\n",
      "          ... \n",
      "1908.0       1\n",
      "4583.0       1\n",
      "7549.0       1\n",
      "3119.0       1\n",
      "1342.0       1\n",
      "Name: count, Length: 1728, dtype: int64\n",
      "_______________________\n",
      "Annual_Income\n",
      "17816.75       16\n",
      "22434.16       16\n",
      "40341.16       16\n",
      "17273.83       16\n",
      "109945.32      16\n",
      "               ..\n",
      "17079092.00     1\n",
      "1910572.00      1\n",
      "20179076.00     1\n",
      "7980216.00      1\n",
      "8299495.00      1\n",
      "Name: count, Length: 13487, dtype: int64\n",
      "_______________________\n",
      "Monthly_Inhand_Salary\n",
      "6769.130000    15\n",
      "6358.956667    15\n",
      "2295.058333    15\n",
      "6082.187500    15\n",
      "3080.555000    14\n",
      "               ..\n",
      "1087.546445     1\n",
      "3189.212103     1\n",
      "5640.117744     1\n",
      "7727.560450     1\n",
      "2443.654131     1\n",
      "Name: count, Length: 13235, dtype: int64\n",
      "_______________________\n",
      "Num_Bank_Accounts\n",
      "6       13001\n",
      "7       12823\n",
      "8       12765\n",
      "4       12186\n",
      "5       12118\n",
      "        ...  \n",
      "1626        1\n",
      "1470        1\n",
      "887         1\n",
      "211         1\n",
      "697         1\n",
      "Name: count, Length: 943, dtype: int64\n",
      "_______________________\n",
      "Num_Credit_Card\n",
      "5       18459\n",
      "7       16615\n",
      "6       16559\n",
      "4       14030\n",
      "3       13277\n",
      "        ...  \n",
      "791         1\n",
      "1118        1\n",
      "657         1\n",
      "640         1\n",
      "679         1\n",
      "Name: count, Length: 1179, dtype: int64\n",
      "_______________________\n",
      "Interest_Rate\n",
      "8       5012\n",
      "5       4979\n",
      "6       4721\n",
      "12      4540\n",
      "10      4540\n",
      "        ... \n",
      "4995       1\n",
      "1899       1\n",
      "2120       1\n",
      "5762       1\n",
      "5729       1\n",
      "Name: count, Length: 1750, dtype: int64\n",
      "_______________________\n",
      "Num_of_Loan\n",
      "3.0       15104\n",
      "2.0       15032\n",
      "4.0       14743\n",
      "0.0       10930\n",
      "1.0       10606\n",
      "          ...  \n",
      "119.0         1\n",
      "321.0         1\n",
      "1439.0        1\n",
      "663.0         1\n",
      "966.0         1\n",
      "Name: count, Length: 414, dtype: int64\n",
      "_______________________\n",
      "Delay_from_due_date\n",
      " 15    3596\n",
      " 13    3424\n",
      " 8     3324\n",
      " 14    3313\n",
      " 10    3281\n",
      "       ... \n",
      "-4       62\n",
      " 65      56\n",
      "-5       33\n",
      " 66      32\n",
      " 67      22\n",
      "Name: count, Length: 73, dtype: int64\n",
      "_______________________\n",
      "Num_of_Delayed_Payment\n",
      "19.0      5481\n",
      "17.0      5412\n",
      "16.0      5312\n",
      "10.0      5309\n",
      "15.0      5237\n",
      "          ... \n",
      "1534.0       1\n",
      "3739.0       1\n",
      "3313.0       1\n",
      "4191.0       1\n",
      "2047.0       1\n",
      "Name: count, Length: 711, dtype: int64\n",
      "_______________________\n",
      "Changed_Credit_Limit\n",
      " 8.22     133\n",
      " 11.50    127\n",
      " 11.32    126\n",
      " 10.06    121\n",
      " 7.35     121\n",
      "         ... \n",
      "-1.84       1\n",
      " 0.89       1\n",
      " 28.06      1\n",
      " 1.56       1\n",
      " 21.17      1\n",
      "Name: count, Length: 4383, dtype: int64\n",
      "_______________________\n",
      "Num_Credit_Inquiries\n",
      "4.0       11271\n",
      "3.0        8890\n",
      "6.0        8111\n",
      "7.0        8058\n",
      "2.0        8028\n",
      "          ...  \n",
      "1721.0        1\n",
      "1750.0        1\n",
      "2397.0        1\n",
      "621.0         1\n",
      "74.0          1\n",
      "Name: count, Length: 1223, dtype: int64\n",
      "_______________________\n",
      "Outstanding_Debt\n",
      "1109.03    24\n",
      "1151.70    24\n",
      "1360.45    24\n",
      "460.46     24\n",
      "1058.13    16\n",
      "           ..\n",
      "4230.04     8\n",
      "641.99      8\n",
      "98.61       8\n",
      "2614.48     8\n",
      "502.38      8\n",
      "Name: count, Length: 12203, dtype: int64\n",
      "_______________________\n",
      "Credit_Utilization_Ratio\n",
      "26.822620    1\n",
      "28.327949    1\n",
      "30.016576    1\n",
      "25.478841    1\n",
      "33.933755    1\n",
      "            ..\n",
      "30.687138    1\n",
      "38.730069    1\n",
      "30.017515    1\n",
      "27.279794    1\n",
      "34.192463    1\n",
      "Name: count, Length: 100000, dtype: int64\n",
      "_______________________\n",
      "Credit_History_Age\n",
      "0.0      9030\n",
      "191.0     446\n",
      "232.0     445\n",
      "233.0     444\n",
      "215.0     443\n",
      "         ... \n",
      "3.0        20\n",
      "2.0        15\n",
      "403.0      14\n",
      "404.0      12\n",
      "1.0         2\n",
      "Name: count, Length: 405, dtype: int64\n",
      "_______________________\n",
      "Total_EMI_per_month\n",
      "0.000000        10613\n",
      "49.574949           8\n",
      "73.533361           8\n",
      "22.960835           8\n",
      "38.661127           8\n",
      "                ...  \n",
      "36408.000000        1\n",
      "23760.000000        1\n",
      "24612.000000        1\n",
      "24325.000000        1\n",
      "58638.000000        1\n",
      "Name: count, Length: 14950, dtype: int64\n",
      "_______________________\n",
      "Amount_invested_monthly\n",
      "10000.000000    4305\n",
      "0.000000         169\n",
      "80.415295          1\n",
      "36.662351          1\n",
      "89.738489          1\n",
      "                ... \n",
      "36.541909          1\n",
      "93.451163          1\n",
      "140.809722         1\n",
      "38.739377          1\n",
      "167.163865         1\n",
      "Name: count, Length: 91049, dtype: int64\n",
      "_______________________\n",
      "Monthly_Balance\n",
      "-3.333333e+26    9\n",
      " 3.124941e+02    1\n",
      " 4.153253e+02    1\n",
      " 2.520849e+02    1\n",
      " 2.549709e+02    1\n",
      "                ..\n",
      " 3.662890e+02    1\n",
      " 1.511883e+02    1\n",
      " 3.067503e+02    1\n",
      " 2.788720e+02    1\n",
      " 3.936737e+02    1\n",
      "Name: count, Length: 98792, dtype: int64\n",
      "_______________________\n"
     ]
    }
   ],
   "source": [
    "numerical_columns = df.select_dtypes(include=['float64', 'int64']).columns.to_list()\n",
    "\n",
    "for col in numerical_columns:\n",
    "    print(df[col].value_counts())\n",
    "    print('_______________________')"
   ]
  },
  {
   "attachments": {},
   "cell_type": "markdown",
   "metadata": {},
   "source": [
    "Обработаем отрицательные значения, заменив их на NaN."
   ]
  },
  {
   "cell_type": "code",
   "execution_count": 17,
   "metadata": {},
   "outputs": [],
   "source": [
    "for col in numerical_columns:\n",
    "    df[col] = df[col].map(lambda x: np.NaN if x < 0 else x)"
   ]
  },
  {
   "attachments": {},
   "cell_type": "markdown",
   "metadata": {},
   "source": [
    "В поле Age представлено 1788 уникальных значений, но возраст должны быть целым числом от 18 до 85 (максимальный возраст заёмщика)."
   ]
  },
  {
   "cell_type": "code",
   "execution_count": 18,
   "metadata": {},
   "outputs": [],
   "source": [
    "df = df.loc[(df['Age'] >= 18 ) & (df['Age'] <= 85)]"
   ]
  },
  {
   "attachments": {},
   "cell_type": "markdown",
   "metadata": {},
   "source": [
    "Также отбросим выбросы и ограничим диапазон других значений, так как, например, у клиента не может быть 1118 кредитных карт или 2397 кредитных запросов."
   ]
  },
  {
   "cell_type": "code",
   "execution_count": 19,
   "metadata": {},
   "outputs": [],
   "source": [
    "df = df[df['Interest_Rate'] <= 50]\n",
    "df = df[df['Num_of_Loan'] <= 12]\n",
    "df = df[df['Num_Credit_Card'] <= 10]\n",
    "df = df[df['Num_Bank_Accounts'] <= 10]\n",
    "df = df[df['Delay_from_due_date'] <= 60]\n",
    "df = df[df['Changed_Credit_Limit'] <= 30]\n",
    "df = df[df['Num_Credit_Inquiries'] <= 12]\n",
    "df = df[df['Total_EMI_per_month'] <= 200]\n",
    "df = df[df['Outstanding_Debt'] <= 1500]"
   ]
  },
  {
   "attachments": {},
   "cell_type": "markdown",
   "metadata": {},
   "source": [
    "Рассчитаем пропущенные значения в полях Monthly_Inhand_Salary, Num_of_Delayed_Payment, Amount_invested_monthly и Monthly_Balance как среднее арифметическое."
   ]
  },
  {
   "cell_type": "code",
   "execution_count": 20,
   "metadata": {},
   "outputs": [],
   "source": [
    "null_num_columns = ['Monthly_Inhand_Salary', 'Num_of_Delayed_Payment', 'Amount_invested_monthly', 'Monthly_Balance']\n",
    "imputer = SimpleImputer(strategy='mean')\n",
    "df[null_num_columns] = imputer.fit_transform(df[null_num_columns])"
   ]
  },
  {
   "attachments": {},
   "cell_type": "markdown",
   "metadata": {},
   "source": [
    "##### 2.3 Обработка категориальных данных"
   ]
  },
  {
   "cell_type": "code",
   "execution_count": 21,
   "metadata": {},
   "outputs": [
    {
     "name": "stdout",
     "output_type": "stream",
     "text": [
      "Occupation\n",
      "Lawyer           3070\n",
      "Architect        2950\n",
      "Media_Manager    2774\n",
      "Teacher          2742\n",
      "Accountant       2740\n",
      "Developer        2721\n",
      "Entrepreneur     2684\n",
      "Journalist       2683\n",
      "Musician         2683\n",
      "Mechanic         2681\n",
      "Scientist        2679\n",
      "Manager          2650\n",
      "Engineer         2638\n",
      "Doctor           2637\n",
      "Writer           2578\n",
      "Name: count, dtype: int64\n",
      "_______________________\n",
      "Type_of_Loan\n",
      "Not Specified                                                                                                                                   1026\n",
      "Personal Loan                                                                                                                                    972\n",
      "Student Loan                                                                                                                                     957\n",
      "Credit-Builder Loan                                                                                                                              933\n",
      "Debt Consolidation Loan                                                                                                                          931\n",
      "                                                                                                                                                ... \n",
      "Credit-Builder Loan, Payday Loan, Debt Consolidation Loan, and Debt Consolidation Loan                                                             1\n",
      "Not Specified, Home Equity Loan, Student Loan, Mortgage Loan, Payday Loan, and Debt Consolidation Loan                                             1\n",
      "Student Loan, Credit-Builder Loan, Payday Loan, Auto Loan, Payday Loan, Debt Consolidation Loan, and Student Loan                                  1\n",
      "Student Loan, Debt Consolidation Loan, Mortgage Loan, Payday Loan, Debt Consolidation Loan, Payday Loan, Personal Loan, and Home Equity Loan       1\n",
      "Student Loan, Student Loan, and Payday Loan                                                                                                        1\n",
      "Name: count, Length: 2249, dtype: int64\n",
      "_______________________\n",
      "Credit_Mix\n",
      "Standard    18576\n",
      "Good        15742\n",
      "Bad           700\n",
      "Name: count, dtype: int64\n",
      "_______________________\n",
      "Payment_of_Min_Amount\n",
      "No     23700\n",
      "Yes    15052\n",
      "NM      5286\n",
      "Name: count, dtype: int64\n",
      "_______________________\n",
      "Payment_Behaviour\n",
      "Low_spent_Small_value_payments      10659\n",
      "High_spent_Medium_value_payments     8036\n",
      "High_spent_Large_value_payments      6290\n",
      "Low_spent_Medium_value_payments      5926\n",
      "High_spent_Small_value_payments      5105\n",
      "Low_spent_Large_value_payments       4754\n",
      "Name: count, dtype: int64\n",
      "_______________________\n",
      "Credit_Score\n",
      "Standard    27179\n",
      "Good        10786\n",
      "Poor         6073\n",
      "Name: count, dtype: int64\n",
      "_______________________\n"
     ]
    }
   ],
   "source": [
    "categorical_columns = df.select_dtypes(include=['object']).columns.to_list()\n",
    "\n",
    "for col in categorical_columns:\n",
    "    print(df[col].value_counts())\n",
    "    print('_______________________')"
   ]
  },
  {
   "attachments": {},
   "cell_type": "markdown",
   "metadata": {},
   "source": [
    "Поле Payment_of_Min_Amount может содержать только значения \"Yes\" или \"No\", но не может содержать \"NM\"."
   ]
  },
  {
   "cell_type": "code",
   "execution_count": 22,
   "metadata": {},
   "outputs": [],
   "source": [
    "df.loc[df['Payment_of_Min_Amount'] == 'NM', 'Payment_of_Min_Amount'] = np.NaN"
   ]
  },
  {
   "attachments": {},
   "cell_type": "markdown",
   "metadata": {},
   "source": [
    "Значения поля Type_of_Loan содержат ненужный союз \"and\"."
   ]
  },
  {
   "cell_type": "code",
   "execution_count": 23,
   "metadata": {},
   "outputs": [],
   "source": [
    "df['Type_of_Loan'] = df['Type_of_Loan'].apply(lambda x: x.lower().replace('and ', '').replace(', ', ',').strip() if pd.notna(x) else x)"
   ]
  },
  {
   "attachments": {},
   "cell_type": "markdown",
   "metadata": {},
   "source": [
    "В поле Credit_Score нет пропущенных значений и оно принимает значения Good, Poor и Standard, поэтому сразу преобразуем их в числа."
   ]
  },
  {
   "cell_type": "code",
   "execution_count": 24,
   "metadata": {},
   "outputs": [
    {
     "data": {
      "text/plain": [
       "Credit_Score\n",
       "1.0    27179\n",
       "2.0    10786\n",
       "0.0     6073\n",
       "Name: count, dtype: int64"
      ]
     },
     "execution_count": 24,
     "metadata": {},
     "output_type": "execute_result"
    }
   ],
   "source": [
    "categories = ['Poor', 'Standard', 'Good']\n",
    "encoder = OrdinalEncoder(categories=[categories])\n",
    "df['Credit_Score'] = encoder.fit_transform(df[['Credit_Score']])\n",
    "df['Credit_Score'].value_counts()"
   ]
  },
  {
   "attachments": {},
   "cell_type": "markdown",
   "metadata": {},
   "source": [
    "Закодируем числами строковые категориальные данные."
   ]
  },
  {
   "cell_type": "code",
   "execution_count": 25,
   "metadata": {},
   "outputs": [],
   "source": [
    "cat_columns = ['Payment_of_Min_Amount','Payment_Behaviour', 'Type_of_Loan', 'Occupation','Credit_Mix']\n",
    "encoder = ce.LeaveOneOutEncoder()\n",
    "for col in cat_columns:\n",
    "    df[col] = encoder.fit_transform(df[col], df['Credit_Score'])"
   ]
  },
  {
   "attachments": {},
   "cell_type": "markdown",
   "metadata": {},
   "source": [
    "##### 2.5 Проверка на наличие пропущенных и повторяющихся значений"
   ]
  },
  {
   "cell_type": "code",
   "execution_count": 26,
   "metadata": {},
   "outputs": [
    {
     "name": "stdout",
     "output_type": "stream",
     "text": [
      "Пропущенных значений нет.\n"
     ]
    }
   ],
   "source": [
    "if df.isnull().sum().sum() == 0:\n",
    "    print('Пропущенных значений нет.')\n",
    "else:\n",
    "    print('Пропущенных значений: ', df.isnull().sum().sum())"
   ]
  },
  {
   "cell_type": "code",
   "execution_count": 27,
   "metadata": {},
   "outputs": [
    {
     "name": "stdout",
     "output_type": "stream",
     "text": [
      "Повторяющихся значений нет.\n"
     ]
    }
   ],
   "source": [
    "if len(df)- len(df.drop_duplicates()) == 0:\n",
    "    print('Повторяющихся значений нет.')\n",
    "else:\n",
    "    print('Повторяющихся значений: ', len(df)- len(df.drop_duplicates()))"
   ]
  },
  {
   "attachments": {},
   "cell_type": "markdown",
   "metadata": {},
   "source": [
    "##### 2.6 Нормализация данных"
   ]
  },
  {
   "cell_type": "code",
   "execution_count": 28,
   "metadata": {},
   "outputs": [
    {
     "data": {
      "text/html": [
       "<div>\n",
       "<style scoped>\n",
       "    .dataframe tbody tr th:only-of-type {\n",
       "        vertical-align: middle;\n",
       "    }\n",
       "\n",
       "    .dataframe tbody tr th {\n",
       "        vertical-align: top;\n",
       "    }\n",
       "\n",
       "    .dataframe thead th {\n",
       "        text-align: right;\n",
       "    }\n",
       "</style>\n",
       "<table border=\"1\" class=\"dataframe\">\n",
       "  <thead>\n",
       "    <tr style=\"text-align: right;\">\n",
       "      <th></th>\n",
       "      <th>Age</th>\n",
       "      <th>Occupation</th>\n",
       "      <th>Annual_Income</th>\n",
       "      <th>Monthly_Inhand_Salary</th>\n",
       "      <th>Num_Bank_Accounts</th>\n",
       "      <th>Num_Credit_Card</th>\n",
       "      <th>Interest_Rate</th>\n",
       "      <th>Num_of_Loan</th>\n",
       "      <th>Type_of_Loan</th>\n",
       "      <th>Delay_from_due_date</th>\n",
       "      <th>...</th>\n",
       "      <th>Credit_Mix</th>\n",
       "      <th>Outstanding_Debt</th>\n",
       "      <th>Credit_Utilization_Ratio</th>\n",
       "      <th>Credit_History_Age</th>\n",
       "      <th>Payment_of_Min_Amount</th>\n",
       "      <th>Total_EMI_per_month</th>\n",
       "      <th>Amount_invested_monthly</th>\n",
       "      <th>Payment_Behaviour</th>\n",
       "      <th>Monthly_Balance</th>\n",
       "      <th>Credit_Score</th>\n",
       "    </tr>\n",
       "  </thead>\n",
       "  <tbody>\n",
       "    <tr>\n",
       "      <th>count</th>\n",
       "      <td>44038.000000</td>\n",
       "      <td>44038.000000</td>\n",
       "      <td>44038.000000</td>\n",
       "      <td>44038.000000</td>\n",
       "      <td>44038.000000</td>\n",
       "      <td>44038.000000</td>\n",
       "      <td>44038.000000</td>\n",
       "      <td>44038.000000</td>\n",
       "      <td>44038.000000</td>\n",
       "      <td>44038.000000</td>\n",
       "      <td>...</td>\n",
       "      <td>44038.000000</td>\n",
       "      <td>44038.000000</td>\n",
       "      <td>44038.000000</td>\n",
       "      <td>44038.000000</td>\n",
       "      <td>44038.000000</td>\n",
       "      <td>44038.000000</td>\n",
       "      <td>44038.000000</td>\n",
       "      <td>44038.000000</td>\n",
       "      <td>44038.000000</td>\n",
       "      <td>44038.000000</td>\n",
       "    </tr>\n",
       "    <tr>\n",
       "      <th>mean</th>\n",
       "      <td>0.466982</td>\n",
       "      <td>0.525277</td>\n",
       "      <td>0.007040</td>\n",
       "      <td>0.269427</td>\n",
       "      <td>0.438860</td>\n",
       "      <td>0.478739</td>\n",
       "      <td>0.278289</td>\n",
       "      <td>0.243853</td>\n",
       "      <td>0.553697</td>\n",
       "      <td>0.247646</td>\n",
       "      <td>...</td>\n",
       "      <td>0.815815</td>\n",
       "      <td>0.516099</td>\n",
       "      <td>0.406787</td>\n",
       "      <td>0.608087</td>\n",
       "      <td>0.613556</td>\n",
       "      <td>0.293204</td>\n",
       "      <td>0.062906</td>\n",
       "      <td>0.533045</td>\n",
       "      <td>0.276453</td>\n",
       "      <td>0.553511</td>\n",
       "    </tr>\n",
       "    <tr>\n",
       "      <th>std</th>\n",
       "      <td>0.280047</td>\n",
       "      <td>0.244176</td>\n",
       "      <td>0.058854</td>\n",
       "      <td>0.194615</td>\n",
       "      <td>0.230519</td>\n",
       "      <td>0.167751</td>\n",
       "      <td>0.178117</td>\n",
       "      <td>0.187159</td>\n",
       "      <td>0.150415</td>\n",
       "      <td>0.154357</td>\n",
       "      <td>...</td>\n",
       "      <td>0.171348</td>\n",
       "      <td>0.295168</td>\n",
       "      <td>0.178992</td>\n",
       "      <td>0.269255</td>\n",
       "      <td>0.457062</td>\n",
       "      <td>0.267136</td>\n",
       "      <td>0.197074</td>\n",
       "      <td>0.353039</td>\n",
       "      <td>0.140076</td>\n",
       "      <td>0.304706</td>\n",
       "    </tr>\n",
       "    <tr>\n",
       "      <th>min</th>\n",
       "      <td>0.000000</td>\n",
       "      <td>0.000000</td>\n",
       "      <td>0.000000</td>\n",
       "      <td>0.000000</td>\n",
       "      <td>0.000000</td>\n",
       "      <td>0.000000</td>\n",
       "      <td>0.000000</td>\n",
       "      <td>0.000000</td>\n",
       "      <td>0.000000</td>\n",
       "      <td>0.000000</td>\n",
       "      <td>...</td>\n",
       "      <td>0.000000</td>\n",
       "      <td>0.000000</td>\n",
       "      <td>0.000000</td>\n",
       "      <td>0.000000</td>\n",
       "      <td>0.000000</td>\n",
       "      <td>0.000000</td>\n",
       "      <td>0.000000</td>\n",
       "      <td>0.000000</td>\n",
       "      <td>0.000000</td>\n",
       "      <td>0.000000</td>\n",
       "    </tr>\n",
       "    <tr>\n",
       "      <th>25%</th>\n",
       "      <td>0.236842</td>\n",
       "      <td>0.408005</td>\n",
       "      <td>0.000627</td>\n",
       "      <td>0.122199</td>\n",
       "      <td>0.300000</td>\n",
       "      <td>0.400000</td>\n",
       "      <td>0.151515</td>\n",
       "      <td>0.111111</td>\n",
       "      <td>0.500000</td>\n",
       "      <td>0.133333</td>\n",
       "      <td>...</td>\n",
       "      <td>0.689881</td>\n",
       "      <td>0.258500</td>\n",
       "      <td>0.259180</td>\n",
       "      <td>0.487624</td>\n",
       "      <td>0.000211</td>\n",
       "      <td>0.077855</td>\n",
       "      <td>0.008070</td>\n",
       "      <td>0.364681</td>\n",
       "      <td>0.184810</td>\n",
       "      <td>0.500000</td>\n",
       "    </tr>\n",
       "    <tr>\n",
       "      <th>50%</th>\n",
       "      <td>0.447368</td>\n",
       "      <td>0.514616</td>\n",
       "      <td>0.001245</td>\n",
       "      <td>0.230258</td>\n",
       "      <td>0.400000</td>\n",
       "      <td>0.500000</td>\n",
       "      <td>0.242424</td>\n",
       "      <td>0.222222</td>\n",
       "      <td>0.581359</td>\n",
       "      <td>0.216667</td>\n",
       "      <td>...</td>\n",
       "      <td>0.817089</td>\n",
       "      <td>0.518681</td>\n",
       "      <td>0.406904</td>\n",
       "      <td>0.638614</td>\n",
       "      <td>0.999733</td>\n",
       "      <td>0.228203</td>\n",
       "      <td>0.014815</td>\n",
       "      <td>0.579996</td>\n",
       "      <td>0.232323</td>\n",
       "      <td>0.500000</td>\n",
       "    </tr>\n",
       "    <tr>\n",
       "      <th>75%</th>\n",
       "      <td>0.684211</td>\n",
       "      <td>0.696283</td>\n",
       "      <td>0.002814</td>\n",
       "      <td>0.353972</td>\n",
       "      <td>0.600000</td>\n",
       "      <td>0.600000</td>\n",
       "      <td>0.393939</td>\n",
       "      <td>0.333333</td>\n",
       "      <td>0.589623</td>\n",
       "      <td>0.350000</td>\n",
       "      <td>...</td>\n",
       "      <td>0.999886</td>\n",
       "      <td>0.784529</td>\n",
       "      <td>0.553138</td>\n",
       "      <td>0.819307</td>\n",
       "      <td>0.999866</td>\n",
       "      <td>0.442293</td>\n",
       "      <td>0.030630</td>\n",
       "      <td>0.841845</td>\n",
       "      <td>0.326868</td>\n",
       "      <td>0.500000</td>\n",
       "    </tr>\n",
       "    <tr>\n",
       "      <th>max</th>\n",
       "      <td>1.000000</td>\n",
       "      <td>1.000000</td>\n",
       "      <td>1.000000</td>\n",
       "      <td>1.000000</td>\n",
       "      <td>1.000000</td>\n",
       "      <td>1.000000</td>\n",
       "      <td>1.000000</td>\n",
       "      <td>1.000000</td>\n",
       "      <td>1.000000</td>\n",
       "      <td>1.000000</td>\n",
       "      <td>...</td>\n",
       "      <td>1.000000</td>\n",
       "      <td>1.000000</td>\n",
       "      <td>1.000000</td>\n",
       "      <td>1.000000</td>\n",
       "      <td>1.000000</td>\n",
       "      <td>1.000000</td>\n",
       "      <td>1.000000</td>\n",
       "      <td>1.000000</td>\n",
       "      <td>1.000000</td>\n",
       "      <td>1.000000</td>\n",
       "    </tr>\n",
       "  </tbody>\n",
       "</table>\n",
       "<p>8 rows × 23 columns</p>\n",
       "</div>"
      ],
      "text/plain": [
       "                Age    Occupation  Annual_Income  Monthly_Inhand_Salary  \\\n",
       "count  44038.000000  44038.000000   44038.000000           44038.000000   \n",
       "mean       0.466982      0.525277       0.007040               0.269427   \n",
       "std        0.280047      0.244176       0.058854               0.194615   \n",
       "min        0.000000      0.000000       0.000000               0.000000   \n",
       "25%        0.236842      0.408005       0.000627               0.122199   \n",
       "50%        0.447368      0.514616       0.001245               0.230258   \n",
       "75%        0.684211      0.696283       0.002814               0.353972   \n",
       "max        1.000000      1.000000       1.000000               1.000000   \n",
       "\n",
       "       Num_Bank_Accounts  Num_Credit_Card  Interest_Rate   Num_of_Loan  \\\n",
       "count       44038.000000     44038.000000   44038.000000  44038.000000   \n",
       "mean            0.438860         0.478739       0.278289      0.243853   \n",
       "std             0.230519         0.167751       0.178117      0.187159   \n",
       "min             0.000000         0.000000       0.000000      0.000000   \n",
       "25%             0.300000         0.400000       0.151515      0.111111   \n",
       "50%             0.400000         0.500000       0.242424      0.222222   \n",
       "75%             0.600000         0.600000       0.393939      0.333333   \n",
       "max             1.000000         1.000000       1.000000      1.000000   \n",
       "\n",
       "       Type_of_Loan  Delay_from_due_date  ...    Credit_Mix  Outstanding_Debt  \\\n",
       "count  44038.000000         44038.000000  ...  44038.000000      44038.000000   \n",
       "mean       0.553697             0.247646  ...      0.815815          0.516099   \n",
       "std        0.150415             0.154357  ...      0.171348          0.295168   \n",
       "min        0.000000             0.000000  ...      0.000000          0.000000   \n",
       "25%        0.500000             0.133333  ...      0.689881          0.258500   \n",
       "50%        0.581359             0.216667  ...      0.817089          0.518681   \n",
       "75%        0.589623             0.350000  ...      0.999886          0.784529   \n",
       "max        1.000000             1.000000  ...      1.000000          1.000000   \n",
       "\n",
       "       Credit_Utilization_Ratio  Credit_History_Age  Payment_of_Min_Amount  \\\n",
       "count              44038.000000        44038.000000           44038.000000   \n",
       "mean                   0.406787            0.608087               0.613556   \n",
       "std                    0.178992            0.269255               0.457062   \n",
       "min                    0.000000            0.000000               0.000000   \n",
       "25%                    0.259180            0.487624               0.000211   \n",
       "50%                    0.406904            0.638614               0.999733   \n",
       "75%                    0.553138            0.819307               0.999866   \n",
       "max                    1.000000            1.000000               1.000000   \n",
       "\n",
       "       Total_EMI_per_month  Amount_invested_monthly  Payment_Behaviour  \\\n",
       "count         44038.000000             44038.000000       44038.000000   \n",
       "mean              0.293204                 0.062906           0.533045   \n",
       "std               0.267136                 0.197074           0.353039   \n",
       "min               0.000000                 0.000000           0.000000   \n",
       "25%               0.077855                 0.008070           0.364681   \n",
       "50%               0.228203                 0.014815           0.579996   \n",
       "75%               0.442293                 0.030630           0.841845   \n",
       "max               1.000000                 1.000000           1.000000   \n",
       "\n",
       "       Monthly_Balance  Credit_Score  \n",
       "count     44038.000000  44038.000000  \n",
       "mean          0.276453      0.553511  \n",
       "std           0.140076      0.304706  \n",
       "min           0.000000      0.000000  \n",
       "25%           0.184810      0.500000  \n",
       "50%           0.232323      0.500000  \n",
       "75%           0.326868      0.500000  \n",
       "max           1.000000      1.000000  \n",
       "\n",
       "[8 rows x 23 columns]"
      ]
     },
     "execution_count": 28,
     "metadata": {},
     "output_type": "execute_result"
    }
   ],
   "source": [
    "columns_list = df.columns.to_list()\n",
    "scaler = MinMaxScaler()\n",
    "\n",
    "for col in columns_list:\n",
    "    df[col] = scaler.fit_transform(df[[col]])\n",
    "\n",
    "df.describe()"
   ]
  },
  {
   "attachments": {},
   "cell_type": "markdown",
   "metadata": {},
   "source": [
    "##### 2.7 Сохранение обработанных данных в формате CSV"
   ]
  },
  {
   "cell_type": "code",
   "execution_count": 29,
   "metadata": {},
   "outputs": [],
   "source": [
    "sample_df = df.sample(frac=0.1)\n",
    "sample_df.to_csv(\"Prepared credit score data.csv\", index=False)"
   ]
  },
  {
   "attachments": {},
   "cell_type": "markdown",
   "metadata": {},
   "source": [
    "#### 3 Шифрование данных"
   ]
  },
  {
   "attachments": {},
   "cell_type": "markdown",
   "metadata": {},
   "source": [
    "##### 3.1 Разделение данных"
   ]
  },
  {
   "cell_type": "code",
   "execution_count": 30,
   "metadata": {},
   "outputs": [],
   "source": [
    "x = sample_df.drop(columns=['Credit_Score'])\n",
    "y = sample_df['Credit_Score'].copy()"
   ]
  },
  {
   "cell_type": "code",
   "execution_count": 31,
   "metadata": {},
   "outputs": [],
   "source": [
    "x_train, x_test, y_train, y_test = train_test_split(x, y, test_size=0.2, random_state=42)"
   ]
  },
  {
   "attachments": {},
   "cell_type": "markdown",
   "metadata": {},
   "source": [
    "##### 3.2 Шифрование данных"
   ]
  },
  {
   "attachments": {},
   "cell_type": "markdown",
   "metadata": {},
   "source": [
    "Для шифрования данных предлагается использовать схему CKKS, так как она позволяет работать с вещественными числами, которыми представлены данные. \n",
    "Параметры шифрования схемы CKKS включают в себя:\n",
    "* степень полиномиального модуля;\n",
    "* размеры модуля коэффициента.\n",
    "\n",
    "Определим значения параметров шифрования, для чего сначала определим количество необходимых операций умножения:\n",
    "* для операции скалярного произведения - 1;\n",
    "* для аппроксимации сигмоидной функции - 2;\n",
    "* для осуществления обратного распространения ошибки - 3.  \n",
    "\n",
    "Таким образом, мультипликативная глубина равна 1 + 2 + 3 = 6, что определяет количество чисел, состовляющих модуль коэффцииента. \n",
    "\n",
    "Степень полиномиального модуля poly_mod_grade, которую ещё называют коэффициентом масштабирования, должна быть степенью двойки (1024, 2048, 4096, 8192 и т. д.), так как она определяет точность кодирования для двоичного представления числа, то есть контролирует точность дробной части, поскольку это значение, на которое умножаются открытые тексты перед кодированием в полином целочисленных коэффициентов.  \n",
    "Приняв желаемый уровнь защищенности, эквивалентный AES, равный 128 битам, степень полиномиального модуля должна быть не ниже 8192, что позволит группировать до 4096 значений в одном зашифрованном тексте.\n",
    "\n",
    "Размеры модуля коэффициента coeff_mod_bit_sizes представляют собой список двоичных размеров, используя который TenSEAL генерирует список простых чисел этих двоичных размеров. Так как желаемый уровень защищённости составляет 128 бит, количество умножений равно 6, а 128 / 6 = 21.3, то в качестве двоичного размера следует использовать 21 бит. При этом двоичные размеры в количестве, равном количеству умножений, определяются в coeff_mod_bit_sizes[1:-1] и должны быть равными друг другу, а первый и последний размер в данном списке должны быть больше их по размеру.  \n",
    "Таким образом, размеры модуля коэффициента [40, 21, 21, 21, 21, 21, 21, 40] обозначают то, что модуль коэффициента будет содержать 8 простых чисел: первое и последнее по 40 бит и остальные по 21 бит. "
   ]
  },
  {
   "cell_type": "code",
   "execution_count": 32,
   "metadata": {},
   "outputs": [],
   "source": [
    "poly_mod_grade = 8192\n",
    "coeff_mod_bit_sizes = [40, 21, 21, 21, 21, 21, 21, 40]"
   ]
  },
  {
   "attachments": {},
   "cell_type": "markdown",
   "metadata": {},
   "source": [
    "Создадим TenSEALContext для указания схемы и параметров. По умолчанию создаются ключи релинеаризации, а также влючена автоматическая релинеаризация и масштабирование."
   ]
  },
  {
   "cell_type": "code",
   "execution_count": 33,
   "metadata": {},
   "outputs": [],
   "source": [
    "ctx_training = ts.context(ts.SCHEME_TYPE.CKKS, poly_mod_grade, -1, coeff_mod_bit_sizes)"
   ]
  },
  {
   "attachments": {},
   "cell_type": "markdown",
   "metadata": {},
   "source": [
    "Также укажем параметр global_scale, который используется в качестве значения масштаба по умолчанию, и который равен 21 биту."
   ]
  },
  {
   "cell_type": "code",
   "execution_count": 34,
   "metadata": {},
   "outputs": [],
   "source": [
    "ctx_training.global_scale = 2 ** 21"
   ]
  },
  {
   "attachments": {},
   "cell_type": "markdown",
   "metadata": {},
   "source": [
    "Для выполнения операции скалярного произведения также требуется определить ключи Галуа."
   ]
  },
  {
   "cell_type": "code",
   "execution_count": 35,
   "metadata": {},
   "outputs": [],
   "source": [
    "ctx_training.generate_galois_keys()"
   ]
  },
  {
   "attachments": {},
   "cell_type": "markdown",
   "metadata": {},
   "source": [
    "Создадим тензоры."
   ]
  },
  {
   "cell_type": "code",
   "execution_count": 36,
   "metadata": {},
   "outputs": [],
   "source": [
    "x_train = torch.tensor(x_train.values).to(torch.float32)\n",
    "x_test = torch.tensor(x_test.values).to(torch.float32)\n",
    "y_train = torch.tensor(y_train.values).to(torch.float32).unsqueeze(1)\n",
    "y_test = torch.tensor(y_test.values).to(torch.float32).unsqueeze(1)"
   ]
  },
  {
   "attachments": {},
   "cell_type": "markdown",
   "metadata": {},
   "source": [
    "Зашифруем тензоры c помощью функции encrypt_data(), которая зашифровывает принимаемый тензор и сериализует получившийся вектор, который после этого записывается в файл и архивируется."
   ]
  },
  {
   "cell_type": "code",
   "execution_count": 37,
   "metadata": {},
   "outputs": [],
   "source": [
    "import os\n",
    "from zipfile import ZipFile\n",
    "\n",
    "def encrypt_data(tensor, filename, ctx_training):\n",
    "    t_start = time()\n",
    "    rows = x_train.shape[0]\n",
    "    zip_name = f'encrypted data//{filename}.zip'\n",
    "    \n",
    "    with ZipFile(zip_name, 'w') as filezip:   \n",
    "        for i in range(rows):\n",
    "            vector = ts.ckks_vector(ctx_training, tensor[i].tolist()).serialize()\n",
    "            filename_with_num = f'encrypted data//{filename}_{i}.hex'\n",
    "            with open(filename_with_num, 'wb') as file:\n",
    "                file.write(vector)\n",
    "            filezip.write(filename_with_num)\n",
    "            os.remove(filename_with_num)\n",
    "    t_end = time()\n",
    "    print(f'Шифрование заняло {int(t_end - t_start)} секунд')"
   ]
  },
  {
   "cell_type": "code",
   "execution_count": 38,
   "metadata": {},
   "outputs": [
    {
     "name": "stdout",
     "output_type": "stream",
     "text": [
      "Шифрование заняло 61 секунд\n"
     ]
    }
   ],
   "source": [
    "encrypt_data(x_train, 'x_train', ctx_training)"
   ]
  },
  {
   "cell_type": "code",
   "execution_count": 39,
   "metadata": {},
   "outputs": [
    {
     "name": "stdout",
     "output_type": "stream",
     "text": [
      "Шифрование заняло 58 секунд\n"
     ]
    }
   ],
   "source": [
    "encrypt_data(y_train, 'y_train', ctx_training)"
   ]
  }
 ],
 "metadata": {
  "kernelspec": {
   "display_name": "Python 3",
   "language": "python",
   "name": "python3"
  },
  "language_info": {
   "codemirror_mode": {
    "name": "ipython",
    "version": 3
   },
   "file_extension": ".py",
   "mimetype": "text/x-python",
   "name": "python",
   "nbconvert_exporter": "python",
   "pygments_lexer": "ipython3",
   "version": "3.10.9"
  },
  "orig_nbformat": 4
 },
 "nbformat": 4,
 "nbformat_minor": 2
}
